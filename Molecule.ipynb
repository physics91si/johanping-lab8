{
 "cells": [
  {
   "cell_type": "code",
   "execution_count": 120,
   "metadata": {
    "collapsed": true
   },
   "outputs": [],
   "source": [
    "# Physics 91SI\n",
    "# Spring 2015\n",
    "# Lab 7\n",
    "#particle\n",
    "import numpy as np\n",
    "\n",
    "class Particle:\n",
    "    \"\"\"Stores information about a particle with mass, position, and velocity.\"\"\"\n",
    "    \n",
    "    def __init__(self, Position, M):\n",
    "        \"\"\"Create a particle with position (numpy array of len 2) and mass.\"\"\"\n",
    "        self.pos = Position   # Sets x position\n",
    "        self.m = M  # Sets mass\n",
    "        # Initial velocity and acceleration set to be zero\n",
    "        self.vel = np.zeros((2,))\n",
    "        self.acc = np.zeros((2,))\n",
    "\n"
   ]
  },
  {
   "cell_type": "code",
   "execution_count": 121,
   "metadata": {
    "collapsed": false
   },
   "outputs": [],
   "source": [
    "#Lab 8\n",
    "#molecule\n",
    "\n",
    "import numpy as np\n",
    "\n",
    "class Molecule:\n",
    "    \"\"\"Contains particle objects \"\"\"\n",
    "\n",
    "    def __init__(self,Position1,Position2,M1,M2,k,L0):\n",
    "        self.p1 = Particle(Position1, M1)\n",
    "        self.p2 = Particle(Position2, M2)\n",
    "        self.k = k\n",
    "        self.L0 = L0 \n",
    "        \n",
    "    def get_displ(self):\n",
    "        return tuple(np.subtract(self.p1.pos,self.p2.pos))\n",
    "\n",
    "    def get_force(self):\n",
    "        return self.k*self.L0\n",
    "            "
   ]
  },
  {
   "cell_type": "code",
   "execution_count": 122,
   "metadata": {
    "collapsed": false
   },
   "outputs": [
    {
     "name": "stdout",
     "output_type": "stream",
     "text": [
      "(-4, 3)\n",
      "48\n"
     ]
    }
   ],
   "source": [
    "#testing if it works\n",
    "w = Molecule([4,3],[8,0],2,1,6,8)\n",
    "#object.<method>\n",
    "displacement = w.get_displ() \n",
    "force = w.get_force()\n",
    "print(displacement)\n",
    "print(force)"
   ]
  },
  {
   "cell_type": "code",
   "execution_count": 113,
   "metadata": {
    "collapsed": true
   },
   "outputs": [],
   "source": [
    "#testing code\n",
    "\n",
    "# Physics 91SI\n",
    "# molecule 2015\n",
    "# Lab 7\n",
    "\n",
    "# Modules you won't need\n",
    "import sys\n",
    "import matplotlib.pyplot as plt\n",
    "import matplotlib.animation as animation\n",
    "\n",
    "# Modules you will need\n",
    "import numpy as np\n",
    "import particle\n",
    "\n",
    "# TODO: Implement this function\n",
    "def init_molecule():\n",
    "    \"\"\"Create Particles p1 and p2 inside boundaries and return a molecule\n",
    "    connecting them\"\"\"\n",
    "    self.p1 = ([0,1],3)\n",
    "    self.p2 = ([0,1],2)\n",
    "    self.k = 1\n",
    "    self.L0 = 0.5\n",
    "    Molecule(p1,p2,k,L0)"
   ]
  },
  {
   "cell_type": "code",
   "execution_count": 133,
   "metadata": {
    "collapsed": false
   },
   "outputs": [
    {
     "ename": "NameError",
     "evalue": "name 'self' is not defined",
     "output_type": "error",
     "traceback": [
      "\u001b[0;31m---------------------------------------------------------------------------\u001b[0m",
      "\u001b[0;31mNameError\u001b[0m                                 Traceback (most recent call last)",
      "\u001b[0;32m<ipython-input-133-b7eecad97346>\u001b[0m in \u001b[0;36m<module>\u001b[0;34m()\u001b[0m\n\u001b[1;32m     68\u001b[0m     \u001b[0mn\u001b[0m \u001b[0;34m=\u001b[0m \u001b[0;36m10\u001b[0m\u001b[0;34m\u001b[0m\u001b[0m\n\u001b[1;32m     69\u001b[0m     \u001b[0mdt\u001b[0m \u001b[0;34m=\u001b[0m \u001b[0;36m.1\u001b[0m\u001b[0;34m\u001b[0m\u001b[0m\n\u001b[0;32m---> 70\u001b[0;31m     \u001b[0mrun_dynamics\u001b[0m\u001b[0;34m(\u001b[0m\u001b[0mn\u001b[0m\u001b[0;34m,\u001b[0m \u001b[0mdt\u001b[0m\u001b[0;34m)\u001b[0m\u001b[0;34m\u001b[0m\u001b[0m\n\u001b[0m",
      "\u001b[0;32m<ipython-input-133-b7eecad97346>\u001b[0m in \u001b[0;36mrun_dynamics\u001b[0;34m(n, dt, xlim, ylim)\u001b[0m\n\u001b[1;32m     42\u001b[0m \u001b[0;32mdef\u001b[0m \u001b[0mrun_dynamics\u001b[0m\u001b[0;34m(\u001b[0m\u001b[0mn\u001b[0m\u001b[0;34m,\u001b[0m \u001b[0mdt\u001b[0m\u001b[0;34m,\u001b[0m \u001b[0mxlim\u001b[0m\u001b[0;34m=\u001b[0m\u001b[0;34m(\u001b[0m\u001b[0;36m0\u001b[0m\u001b[0;34m,\u001b[0m \u001b[0;36m1\u001b[0m\u001b[0;34m)\u001b[0m\u001b[0;34m,\u001b[0m \u001b[0mylim\u001b[0m\u001b[0;34m=\u001b[0m\u001b[0;34m(\u001b[0m\u001b[0;36m0\u001b[0m\u001b[0;34m,\u001b[0m \u001b[0;36m1\u001b[0m\u001b[0;34m)\u001b[0m\u001b[0;34m)\u001b[0m\u001b[0;34m:\u001b[0m\u001b[0;34m\u001b[0m\u001b[0m\n\u001b[1;32m     43\u001b[0m     \u001b[0;34m\"\"\"Calculate each successive time step and animate it\"\"\"\u001b[0m\u001b[0;34m\u001b[0m\u001b[0m\n\u001b[0;32m---> 44\u001b[0;31m     \u001b[0mmol\u001b[0m \u001b[0;34m=\u001b[0m \u001b[0minit_molecule\u001b[0m\u001b[0;34m(\u001b[0m\u001b[0;34m)\u001b[0m\u001b[0;34m\u001b[0m\u001b[0m\n\u001b[0m\u001b[1;32m     45\u001b[0m \u001b[0;34m\u001b[0m\u001b[0m\n\u001b[1;32m     46\u001b[0m     \u001b[0;31m# Animation stuff\u001b[0m\u001b[0;34m\u001b[0m\u001b[0;34m\u001b[0m\u001b[0m\n",
      "\u001b[0;32m<ipython-input-133-b7eecad97346>\u001b[0m in \u001b[0;36minit_molecule\u001b[0;34m()\u001b[0m\n\u001b[1;32m     19\u001b[0m     \"\"\"Create Particles p1 and p2 inside boundaries and return a molecule\n\u001b[1;32m     20\u001b[0m     connecting them\"\"\"\n\u001b[0;32m---> 21\u001b[0;31m     \u001b[0mself\u001b[0m\u001b[0;34m.\u001b[0m\u001b[0mp1\u001b[0m \u001b[0;34m=\u001b[0m \u001b[0;34m(\u001b[0m\u001b[0;34m[\u001b[0m\u001b[0;36m0\u001b[0m\u001b[0;34m,\u001b[0m\u001b[0;36m1\u001b[0m\u001b[0;34m]\u001b[0m\u001b[0;34m,\u001b[0m\u001b[0;36m1\u001b[0m\u001b[0;34m)\u001b[0m\u001b[0;34m\u001b[0m\u001b[0m\n\u001b[0m\u001b[1;32m     22\u001b[0m     \u001b[0mself\u001b[0m\u001b[0;34m.\u001b[0m\u001b[0mp2\u001b[0m \u001b[0;34m=\u001b[0m \u001b[0;34m(\u001b[0m\u001b[0;34m[\u001b[0m\u001b[0;36m0\u001b[0m\u001b[0;34m,\u001b[0m\u001b[0;36m1\u001b[0m\u001b[0;34m]\u001b[0m\u001b[0;34m,\u001b[0m\u001b[0;36m2\u001b[0m\u001b[0;34m)\u001b[0m\u001b[0;34m\u001b[0m\u001b[0m\n\u001b[1;32m     23\u001b[0m     \u001b[0mself\u001b[0m\u001b[0;34m.\u001b[0m\u001b[0mk\u001b[0m \u001b[0;34m=\u001b[0m \u001b[0;36m1\u001b[0m\u001b[0;34m\u001b[0m\u001b[0m\n",
      "\u001b[0;31mNameError\u001b[0m: name 'self' is not defined"
     ]
    }
   ],
   "source": [
    "#whole file\n",
    "##!/usr/bin/python\n",
    "\n",
    "# Physics 91SI\n",
    "# molecule 2015\n",
    "# Lab 7\n",
    "\n",
    "# Modules you won't need\n",
    "import sys\n",
    "import matplotlib.pyplot as plt\n",
    "import matplotlib.animation as animation\n",
    "\n",
    "# Modules you will need\n",
    "import numpy as np\n",
    "import particle\n",
    "\n",
    "# TODO: Implement this function\n",
    "def init_molecule():\n",
    "    \"\"\"Create Particles p1 and p2 inside boundaries and return a molecule\n",
    "    connecting them\"\"\"\n",
    "    self.p1 = ([0,1],1)\n",
    "    self.p2 = ([0,1],2)\n",
    "    self.k = 1\n",
    "    self.L0 = 0.5\n",
    "    Molecule(p1,p2,k,L0)\n",
    "   \n",
    "# TODO: Implement this function\n",
    "#need help with this part \n",
    "def time_step(dt, mol):\n",
    "    \"\"\"Sets new positions and velocities of the particles attached to mol\"\"\"\n",
    "    \n",
    "    for i in range [i:i+1/2]:\n",
    "        mass = mol.self.p1.m + mol.self.p2.m\n",
    "        velocity = (Molecule.get_force()/mass)*dt \n",
    "    \n",
    "\n",
    "\n",
    "#############################################\n",
    "# The rest of the file is already implemented\n",
    "#############################################\n",
    "\n",
    "def run_dynamics(n, dt, xlim=(0, 1), ylim=(0, 1)):\n",
    "    \"\"\"Calculate each successive time step and animate it\"\"\"\n",
    "    mol = init_molecule()\n",
    "\n",
    "    # Animation stuff\n",
    "    fig, ax = plt.subplots()\n",
    "    line, = ax.plot((mol.p1.pos[0], mol.p2.pos[0]), (mol.p1.pos[1], mol.p2.pos[1]), '-o')\n",
    "    ax.clear()\n",
    "    plt.xlim(xlim)\n",
    "    plt.ylim(ylim)\n",
    "    plt.xlabel(r'$x$')\n",
    "    plt.ylabel(r'$y$')\n",
    "    plt.title('Dynamics simulation')\n",
    "    dynamic_ani = animation.FuncAnimation(fig, update_anim, n,\n",
    "            fargs=(dt, mol,line), interval=50, blit=False)\n",
    "    plt.show()\n",
    "\n",
    "def update_anim(i,dt, mol,line):\n",
    "    \"\"\"Update and draw the molecule. Called by FuncAnimation\"\"\"\n",
    "    time_step(dt, mol)\n",
    "    line.set_data([(mol.p1.pos[0], mol.p2.pos[0]),\n",
    "                   (mol.p1.pos[1], mol.p2.pos[1])])\n",
    "    return line,\n",
    "\n",
    "if __name__ == '__main__':\n",
    "    # Set the number of iterations and time step size\n",
    "    n = 10\n",
    "    dt = .1\n",
    "    run_dynamics(n, dt)\n"
   ]
  },
  {
   "cell_type": "code",
   "execution_count": null,
   "metadata": {
    "collapsed": true
   },
   "outputs": [],
   "source": []
  },
  {
   "cell_type": "code",
   "execution_count": null,
   "metadata": {
    "collapsed": true
   },
   "outputs": [],
   "source": []
  }
 ],
 "metadata": {
  "kernelspec": {
   "display_name": "Python 3",
   "language": "python",
   "name": "python3"
  },
  "language_info": {
   "codemirror_mode": {
    "name": "ipython",
    "version": 3
   },
   "file_extension": ".py",
   "mimetype": "text/x-python",
   "name": "python",
   "nbconvert_exporter": "python",
   "pygments_lexer": "ipython3",
   "version": "3.5.1"
  }
 },
 "nbformat": 4,
 "nbformat_minor": 0
}
